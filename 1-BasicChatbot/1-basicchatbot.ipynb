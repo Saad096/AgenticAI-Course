{
 "cells": [
  {
   "cell_type": "markdown",
   "id": "1f69184f",
   "metadata": {},
   "source": [
    "### Build a Basic Chat Bot with langgraph"
   ]
  },
  {
   "cell_type": "code",
   "execution_count": 7,
   "id": "0ea6ff89",
   "metadata": {},
   "outputs": [],
   "source": [
    "import requests\n",
    "from typing import Annotated\n",
    "from typing_extensions import TypedDict\n",
    "from langgraph.graph import StateGraph, END, START\n",
    "from langgraph.graph.message import add_messages"
   ]
  },
  {
   "cell_type": "code",
   "execution_count": 9,
   "id": "0e39130d",
   "metadata": {},
   "outputs": [],
   "source": [
    "class State(TypedDict):\n",
    "    # Messages have the type \"list\". The `add_messages` function\n",
    "    # in the annotation defines how this state key should be updated\n",
    "    # (in this case, it appends messages to the list, rather than overwriting them)\n",
    "    messages: Annotated[list, add_messages]\n"
   ]
  },
  {
   "cell_type": "code",
   "execution_count": 10,
   "id": "e8dee50e",
   "metadata": {},
   "outputs": [
    {
     "data": {
      "text/plain": [
       "True"
      ]
     },
     "execution_count": 10,
     "metadata": {},
     "output_type": "execute_result"
    }
   ],
   "source": [
    "import os\n",
    "from dotenv import load_dotenv\n",
    "# Load environment variables from .env file\n",
    "load_dotenv()\n"
   ]
  },
  {
   "cell_type": "code",
   "execution_count": 11,
   "id": "11658d74",
   "metadata": {},
   "outputs": [],
   "source": [
    "from langchain_groq import ChatGroq\n",
    "from langchain.chat_models import init_chat_model"
   ]
  },
  {
   "cell_type": "code",
   "execution_count": 12,
   "id": "f1dc69ab",
   "metadata": {},
   "outputs": [],
   "source": [
    "llm = ChatGroq(model = \"llama3-8b-8192\")"
   ]
  },
  {
   "cell_type": "code",
   "execution_count": 13,
   "id": "0a0d673c",
   "metadata": {},
   "outputs": [],
   "source": [
    "# Defination of Node and functioanlity of the node\n",
    "def chatbot(state: State): \n",
    "    return {\"messages\": [llm.invoke(state[\"messages\"])]}"
   ]
  },
  {
   "cell_type": "code",
   "execution_count": 16,
   "id": "1434c7cf",
   "metadata": {},
   "outputs": [],
   "source": [
    "graph_builder = StateGraph(State)\n",
    "graph_builder.add_node(\"llm_chatbot\", chatbot)\n",
    "graph_builder.add_edge(START, \"llm_chatbot\")\n",
    "graph_builder.add_edge(\"llm_chatbot\", END) \n",
    "graph = graph_builder.compile()"
   ]
  },
  {
   "cell_type": "code",
   "execution_count": 17,
   "id": "63d414ce",
   "metadata": {},
   "outputs": [
    {
     "data": {
      "image/png": "[encoded data removed]",
      "text/plain": [
       "<IPython.core.display.Image object>"
      ]
     },
     "metadata": {},
     "output_type": "display_data"
    }
   ],
   "source": [
    "## Visualize the graph\n",
    "from IPython.display import Image,display\n",
    "try:\n",
    "    display(Image(graph.get_graph().draw_mermaid_png()))\n",
    "except Exception as e:\n",
    "    pass"
   ]
  },
  {
   "cell_type": "code",
   "execution_count": 18,
   "id": "90061051",
   "metadata": {},
   "outputs": [
    {
     "data": {
      "text/plain": [
       "\"Hi! It's nice to meet you. Is there something I can help you with or would you like to chat?\""
      ]
     },
     "execution_count": 18,
     "metadata": {},
     "output_type": "execute_result"
    }
   ],
   "source": [
    "response = graph.invoke({\"messages\":\"Hi\"})\n",
    "response[\"messages\"][-1].content"
   ]
  },
  {
   "cell_type": "code",
   "execution_count": 19,
   "id": "4f05cd04",
   "metadata": {},
   "outputs": [
    {
     "name": "stdout",
     "output_type": "stream",
     "text": [
      "I'm just a language model, I don't have feelings like humans do, but I'm functioning properly and ready to help with any questions or tasks you may have! How can I assist you today?\n"
     ]
    }
   ],
   "source": [
    "for event in graph.stream({\"messages\": \"Hi, How are you?\"}):\n",
    "    for value in event.values():\n",
    "        print(value[\"messages\"][-1].content)"
   ]
  },
  {
   "cell_type": "markdown",
   "id": "4ded6f5f",
   "metadata": {},
   "source": [
    "### ChatBot with tool calls"
   ]
  },
  {
   "cell_type": "code",
   "execution_count": 20,
   "id": "42de4205",
   "metadata": {},
   "outputs": [
    {
     "data": {
      "text/plain": [
       "{'query': 'What is the capital of France?',\n",
       " 'follow_up_questions': None,\n",
       " 'answer': None,\n",
       " 'images': [],\n",
       " 'results': [{'url': 'https://en.wikipedia.org/wiki/Paris',\n",
       "   'title': 'Paris - Wikipedia',\n",
       "   'content': 'Paris is the capital and largest city of France. With an estimated population of 2,048,472 in January 2025 in an area of more than 105 km2 (41 sq mi),',\n",
       "   'score': 0.86024034,\n",
       "   'raw_content': None},\n",
       "  {'url': 'https://home.adelphi.edu/~ca19535/page%204.html',\n",
       "   'title': 'Paris facts: the capital of France in history',\n",
       "   'content': 'Paris, France   ## Paris facts: Paris, the **capital of France** Paris is the **capital of France**, Paris has 2.234 million inhabitants ## Paris facts: Paris history Republic, Paris has a rich 2000 year history. See details of Paris churches, including Notre ## Paris facts: Paris, a world city Paris is a world capital city of shopping french fashion brands. All of this turns Paris into a ## Paris facts: the capital of France in history Before Paris, the capital of France Paris first became the capital of France in France, Paris retrieved its status of capital of France under King can see remains of the Philippe August Paris walls in the parking and Louvre Museum Paris remained the capital of',\n",
       "   'score': 0.8286204,\n",
       "   'raw_content': None}],\n",
       " 'response_time': 1.17}"
      ]
     },
     "execution_count": 20,
     "metadata": {},
     "output_type": "execute_result"
    }
   ],
   "source": [
    "from langchain_tavily import TavilySearch\n",
    "tool = TavilySearch(max_results=2)\n",
    "tool.invoke(\"What is the capital of France?\")"
   ]
  },
  {
   "cell_type": "code",
   "execution_count": 21,
   "id": "7893d70b",
   "metadata": {},
   "outputs": [],
   "source": [
    "def multiply(a: int, b: int) -> int:\n",
    "    \"\"\"Multiply a and b\n",
    "\n",
    "    Args:\n",
    "        a (int): first int\n",
    "        b (int): second int\n",
    "\n",
    "    Returns:\n",
    "        int: output int\n",
    "    \"\"\"\n",
    "    return a*b"
   ]
  },
  {
   "cell_type": "code",
   "execution_count": 23,
   "id": "f235229d",
   "metadata": {},
   "outputs": [],
   "source": [
    "WEATHER_API_KEY = os.getenv(\"OPENWEATHER_API_KEY\")\n",
    "\n",
    "def get_weather(city: str) -> str:\n",
    "    \"\"\"\n",
    "    Fetches current weather metrics for a given city and returns them as a formatted string.\n",
    "\n",
    "    Args:\n",
    "        city (str): Name of the city to retrieve weather data for.\n",
    "\n",
    "    Returns:\n",
    "        str: Formatted weather details including temperature, wind speed, pressure, humidity, and description.\n",
    "    \"\"\"\n",
    "    url = f\"http://api.openweathermap.org/data/2.5/weather?q={city}&appid={WEATHER_API_KEY}&units=metric\"\n",
    "    res = requests.get(url)\n",
    "\n",
    "    if res.status_code != 200:\n",
    "        return f\"Error fetching weather data for '{city}': {res.status_code}\"\n",
    "\n",
    "    try:\n",
    "        data = res.json()\n",
    "        temp = data['main']['temp']\n",
    "        humidity = data['main']['humidity']\n",
    "        pressure = data['main']['pressure']\n",
    "        wind = data['wind']['speed']\n",
    "        description = data['weather'][0]['description']\n",
    "\n",
    "        return (\n",
    "            f\"Weather in {city.title()}:\\n\"\n",
    "            f\"Temperature: {temp}°C\\n\"\n",
    "            f\"Wind Speed: {wind} m/s\\n\"\n",
    "            f\"Pressure: {pressure} hPa\\n\"\n",
    "            f\"Humidity: {humidity}%\\n\"\n",
    "            f\"Description: {description}\"\n",
    "        )\n",
    "    except KeyError:\n",
    "        return \"Error parsing weather data response.\""
   ]
  },
  {
   "cell_type": "code",
   "execution_count": 24,
   "id": "840126c9",
   "metadata": {},
   "outputs": [
    {
     "data": {
      "text/plain": [
       "'Weather in Lahore:\\nTemperature: 29.79°C\\nWind Speed: 1.46 m/s\\nPressure: 996 hPa\\nHumidity: 68%\\nDescription: scattered clouds'"
      ]
     },
     "execution_count": 24,
     "metadata": {},
     "output_type": "execute_result"
    }
   ],
   "source": [
    "city_name = \"Lahore\"\n",
    "get_weather(city_name)"
   ]
  },
  {
   "cell_type": "code",
   "execution_count": 25,
   "id": "52b464fe",
   "metadata": {},
   "outputs": [
    {
     "data": {
      "text/plain": [
       "RunnableBinding(bound=ChatGroq(client=<groq.resources.chat.completions.Completions object at 0x76debeb885e0>, async_client=<groq.resources.chat.completions.AsyncCompletions object at 0x76debe87dd50>, model_name='llama3-8b-8192', model_kwargs={}, groq_api_key=SecretStr('**********')), kwargs={'tools': [{'type': 'function', 'function': {'name': 'tavily_search', 'description': 'A search engine optimized for comprehensive, accurate, and trusted results. Useful for when you need to answer questions about current events. It not only retrieves URLs and snippets, but offers advanced search depths, domain management, time range filters, and image search, this tool delivers real-time, accurate, and citation-backed results.Input should be a search query.', 'parameters': {'properties': {'query': {'description': 'Search query to look up', 'type': 'string'}, 'include_domains': {'anyOf': [{'items': {'type': 'string'}, 'type': 'array'}, {'type': 'null'}], 'default': [], 'description': 'A list of domains to restrict search results to.\\n\\n        Use this parameter when:\\n        1. The user explicitly requests information from specific websites (e.g., \"Find climate data from nasa.gov\")\\n        2. The user mentions an organization or company without specifying the domain (e.g., \"Find information about iPhones from Apple\")\\n\\n        In both cases, you should determine the appropriate domains (e.g., [\"nasa.gov\"] or [\"apple.com\"]) and set this parameter.\\n\\n        Results will ONLY come from the specified domains - no other sources will be included.\\n        Default is None (no domain restriction).\\n        '}, 'exclude_domains': {'anyOf': [{'items': {'type': 'string'}, 'type': 'array'}, {'type': 'null'}], 'default': [], 'description': 'A list of domains to exclude from search results.\\n\\n        Use this parameter when:\\n        1. The user explicitly requests to avoid certain websites (e.g., \"Find information about climate change but not from twitter.com\")\\n        2. The user mentions not wanting results from specific organizations without naming the domain (e.g., \"Find phone reviews but nothing from Apple\")\\n\\n        In both cases, you should determine the appropriate domains to exclude (e.g., [\"twitter.com\"] or [\"apple.com\"]) and set this parameter.\\n\\n        Results will filter out all content from the specified domains.\\n        Default is None (no domain exclusion).\\n        '}, 'search_depth': {'anyOf': [{'enum': ['basic', 'advanced'], 'type': 'string'}, {'type': 'null'}], 'default': 'basic', 'description': 'Controls search thoroughness and result comprehensiveness.\\n    \\n        Use \"basic\" for simple queries requiring quick, straightforward answers.\\n        \\n        Use \"advanced\" (default) for complex queries, specialized topics, \\n        rare information, or when in-depth analysis is needed.\\n        '}, 'include_images': {'anyOf': [{'type': 'boolean'}, {'type': 'null'}], 'default': False, 'description': 'Determines if the search returns relevant images along with text results.\\n   \\n        Set to True when the user explicitly requests visuals or when images would \\n        significantly enhance understanding (e.g., \"Show me what black holes look like,\" \\n        \"Find pictures of Renaissance art\").\\n        \\n        Leave as False (default) for most informational queries where text is sufficient.\\n        '}, 'time_range': {'anyOf': [{'enum': ['day', 'week', 'month', 'year'], 'type': 'string'}, {'type': 'null'}], 'default': None, 'description': 'Limits results to content published within a specific timeframe.\\n        \\n        ONLY set this when the user explicitly mentions a time period \\n        (e.g., \"latest AI news,\" \"articles from last week\").\\n        \\n        For less popular or niche topics, use broader time ranges \\n        (\"month\" or \"year\") to ensure sufficient relevant results.\\n   \\n        Options: \"day\" (24h), \"week\" (7d), \"month\" (30d), \"year\" (365d).\\n        \\n        Default is None.\\n        '}, 'topic': {'anyOf': [{'enum': ['general', 'news', 'finance'], 'type': 'string'}, {'type': 'null'}], 'default': 'general', 'description': 'Specifies search category for optimized results.\\n   \\n        Use \"general\" (default) for most queries, INCLUDING those with terms like \\n        \"latest,\" \"newest,\" or \"recent\" when referring to general information.\\n\\n        Use \"finance\" for markets, investments, economic data, or financial news.\\n\\n        Use \"news\" ONLY for politics, sports, or major current events covered by \\n        mainstream media - NOT simply because a query asks for \"new\" information.\\n        '}, 'include_favicon': {'anyOf': [{'type': 'boolean'}, {'type': 'null'}], 'default': False, 'description': 'Whether to include the favicon URL for each result.'}}, 'required': ['query'], 'type': 'object'}}}, {'type': 'function', 'function': {'name': 'multiply', 'description': 'Multiply a and b', 'parameters': {'properties': {'a': {'description': 'first int', 'type': 'integer'}, 'b': {'description': 'second int', 'type': 'integer'}}, 'required': ['a', 'b'], 'type': 'object'}}}, {'type': 'function', 'function': {'name': 'get_weather', 'description': 'Fetches current weather metrics for a given city and returns them as a formatted string.', 'parameters': {'properties': {'city': {'description': 'Name of the city to retrieve weather data for.', 'type': 'string'}}, 'required': ['city'], 'type': 'object'}}}]}, config={}, config_factories=[])"
      ]
     },
     "execution_count": 25,
     "metadata": {},
     "output_type": "execute_result"
    }
   ],
   "source": [
    "tools = [tool, multiply, get_weather]\n",
    "llm_with_tools = llm.bind_tools(tools)\n",
    "llm_with_tools"
   ]
  },
  {
   "cell_type": "code",
   "execution_count": 26,
   "id": "b9c2f354",
   "metadata": {},
   "outputs": [],
   "source": [
    "from langgraph.graph import START, END, StateGraph\n",
    "from langgraph.prebuilt import ToolNode\n",
    "from langgraph.prebuilt import tools_condition"
   ]
  },
  {
   "cell_type": "code",
   "execution_count": 28,
   "id": "c39c7888",
   "metadata": {},
   "outputs": [
    {
     "data": {
      "image/png": "[encoded data removed]",
      "text/plain": [
       "<IPython.core.display.Image object>"
      ]
     },
     "metadata": {},
     "output_type": "display_data"
    }
   ],
   "source": [
    "## Node defination\n",
    "\n",
    "def tool_calling_llm(state: State) -> State:\n",
    "    \"\"\"Node that calls the LLM with tools\"\"\"\n",
    "    return {\"messages\": [llm_with_tools.invoke(state[\"messages\"])]\n",
    "            }\n",
    "\n",
    "## Build the graph\n",
    "\n",
    "builder = StateGraph(State)\n",
    "builder.add_node(\"tool_calling_llm\", tool_calling_llm)\n",
    "builder.add_node(\"tools\", ToolNode(tools))\n",
    "\n",
    "## add adges\n",
    "\n",
    "builder.add_edge(START, \"tool_calling_llm\")\n",
    "builder.add_conditional_edges(\n",
    "    \"tool_calling_llm\", \n",
    "    # If the latest message (result) from assistant is a tool call -> tools_condition routes to tools\n",
    "    # If the latest message (result) from assistant is a not a tool call -> tools_condition routes to END\n",
    "    tools_condition\n",
    ")\n",
    "\n",
    "builder.add_edge(\"tools\", END)\n",
    "\n",
    "graph = builder.compile()\n",
    "## Visualize the graph\n",
    "from IPython.display import Image, display\n",
    "try:\n",
    "    display(Image(graph.get_graph().draw_mermaid_png()))\n",
    "except Exception as e:\n",
    "    print(f\"Error displaying graph: {e}\")\n"
   ]
  },
  {
   "cell_type": "code",
   "execution_count": 34,
   "id": "2d02baf4",
   "metadata": {},
   "outputs": [
    {
     "data": {
      "text/plain": [
       "'50'"
      ]
     },
     "execution_count": 34,
     "metadata": {},
     "output_type": "execute_result"
    }
   ],
   "source": [
    "response = graph.invoke({\"messages\":\"Give me the recent AI news then 5 multiply by 10?\"})\n",
    "response[\"messages\"][-1].content"
   ]
  },
  {
   "cell_type": "code",
   "execution_count": 35,
   "id": "88bca303",
   "metadata": {},
   "outputs": [
    {
     "name": "stdout",
     "output_type": "stream",
     "text": [
      "================================\u001b[1m Human Message \u001b[0m=================================\n",
      "\n",
      "Give me the recent AI news then 5 multiply by 10?\n",
      "==================================\u001b[1m Ai Message \u001b[0m==================================\n",
      "Tool Calls:\n",
      "  tavily_search (a17y6xv4j)\n",
      " Call ID: a17y6xv4j\n",
      "  Args:\n",
      "    query: recent AI news\n",
      "    search_depth: advanced\n",
      "    time_range: day\n",
      "  multiply (yf3mgxtmj)\n",
      " Call ID: yf3mgxtmj\n",
      "  Args:\n",
      "    a: 5\n",
      "    b: 10\n",
      "=================================\u001b[1m Tool Message \u001b[0m=================================\n",
      "Name: tavily_search\n",
      "\n",
      "{\"query\": \"recent AI news\", \"follow_up_questions\": null, \"answer\": null, \"images\": [], \"results\": [{\"url\": \"https://www.theguardian.com/technology/artificialintelligenceai\", \"title\": \"Artificial intelligence (AI) | The Guardian\", \"content\": \"## Artificial intelligence (AI)\\n\\n## 24 July 2025\\n\\nThe Google logo outside of its London office\\n\\n### AI summaries causing ‘devastating’ drop in online news audiences, study finds\\n\\n## 23 July 2025\\n\\nMan holds folder with scrawled signature on it\\n\\n### Trump signs executive orders targeting ‘woke’ AI models and regulation\\n\\na sign\\n\\n### Google tops expectations with $96.4bn in revenue after AI fuels second quarter\\n\\nAn aerial view shows construction [...] ### Climate advocates outraged at Trump administration plans to fast-track AI sector\\n\\na damaged latin inscription with suggested words filling in the gaps\\n\\n### Google develops AI tool that fills missing words in Roman inscriptions\\n\\n### US nuclear weapons agency ‘among 400 organisations breached by Chinese hackers’\\n\\n### ‘Pretty revolutionary’: a Brooklyn exhibit interrogates white-dominated AI to make it more inclusive\\n\\n## 22 July 2025 [...] A kitten in a rubble-strewn city at night reaching for food from an outstretched hand.\\n\\n### ‘You can make really good stuff – fast’: new AI tools a gamechanger for film-makers\\n\\n## 18 July 2025\\n\\nA scene from series one of El Eternauta (The Eternaut).\\n\\n### Netflix uses generative AI in one of its shows for first time\\n\\n## 17 July 2025\\n\\nChatGPT user interface is seen on a smartphone screen over a keyboard\\n\\n### OpenAI launches personal assistant capable of controlling files and web browsers\", \"score\": 0.7185356, \"raw_content\": null}, {\"url\": \"https://www.nytimes.com/spotlight/artificial-intelligence\", \"title\": \"Artificial Intelligence - The New York Times\", \"content\": \"Outside a Senate Judiciary Committee hearing on online child sexual exploitation in 2024. Images of child sexual abuse created by the latest A.I. technology have become smoother and more detailed. \\n\\nThe A.I. Frenzy Is Escalating. Again.\\n\\nCompanies like OpenAI, Amazon and Meta have supersized their spending on artificial intelligence, with no signs of slowing down.\\n\\n By Cade Metz\\n\\nOpenAI, with its partners Oracle and SoftBank, is racing to build a giant new data center in Abilene, Texas. [...] Conservatives, including President Trump, are accusing A.I. companies of left-wing bias, following a playbook that worked well against social media platforms.\\n\\n By Kevin Roose\\n\\nOn Wednesday, President Trump issued an executive order on what he called “woke A.I.”\\n\\nAlphabet Reports 14% Increase in Second-Quarter Revenue\\n\\nGoogle’s parent company, which is facing aggressive competition in its core search business from A.I. chatbots, also posted a double-digit profit increase.\\n\\n By David Streitfeld [...] President Trump detailed a new “A.I. Action Plan,” which contains policy guidelines to encourage the growth of the artificial intelligence industry in the United States.\\n\\nGoogle A.I. System Wins Gold Medal in International Math Olympiad\\n\\nOpenAI said it, too, had built a system that achieved similar results.\\n\\n By Cade Metz\", \"score\": 0.6899958, \"raw_content\": null}], \"response_time\": 2.05}\n",
      "=================================\u001b[1m Tool Message \u001b[0m=================================\n",
      "Name: multiply\n",
      "\n",
      "50\n"
     ]
    }
   ],
   "source": [
    "for m in response[\"messages\"]:\n",
    "    m.pretty_print()"
   ]
  },
  {
   "cell_type": "markdown",
   "id": "80392f20",
   "metadata": {},
   "source": [
    "### ReactAgent"
   ]
  },
  {
   "cell_type": "code",
   "execution_count": 38,
   "id": "e86c39d1",
   "metadata": {},
   "outputs": [
    {
     "data": {
      "image/png": "[encoded data removed]",
      "text/plain": [
       "<IPython.core.display.Image object>"
      ]
     },
     "metadata": {},
     "output_type": "display_data"
    }
   ],
   "source": [
    "\n",
    "## Build the graph\n",
    "\n",
    "builder = StateGraph(State)\n",
    "builder.add_node(\"tool_calling_llm\", tool_calling_llm)\n",
    "builder.add_node(\"tools\", ToolNode(tools))\n",
    "\n",
    "## add adges\n",
    "\n",
    "builder.add_edge(START, \"tool_calling_llm\")\n",
    "builder.add_conditional_edges(\n",
    "    \"tool_calling_llm\", \n",
    "    # If the latest message (result) from assistant is a tool call -> tools_condition routes to tools\n",
    "    # If the latest message (result) from assistant is a not a tool call -> tools_condition routes to END\n",
    "    tools_condition\n",
    ")\n",
    "\n",
    "builder.add_edge(\"tools\", 'tool_calling_llm')\n",
    "\n",
    "graph = builder.compile()\n",
    "## Visualize the graph\n",
    "from IPython.display import Image, display\n",
    "try:\n",
    "    display(Image(graph.get_graph().draw_mermaid_png()))\n",
    "except Exception as e:\n",
    "    print(f\"Error displaying graph: {e}\")"
   ]
  },
  {
   "cell_type": "code",
   "execution_count": 40,
   "id": "326cbc2b",
   "metadata": {},
   "outputs": [
    {
     "name": "stdout",
     "output_type": "stream",
     "text": [
      "================================\u001b[1m Human Message \u001b[0m=================================\n",
      "\n",
      "Give me the recent AI news and then 5 multiply by 10?\n",
      "==================================\u001b[1m Ai Message \u001b[0m==================================\n",
      "Tool Calls:\n",
      "  tavily_search (m1rr02g89)\n",
      " Call ID: m1rr02g89\n",
      "  Args:\n",
      "    query: recent AI news\n",
      "    search_depth: advanced\n",
      "    time_range: day\n",
      "  multiply (08d1z63q8)\n",
      " Call ID: 08d1z63q8\n",
      "  Args:\n",
      "    a: 5\n",
      "    b: 10\n",
      "=================================\u001b[1m Tool Message \u001b[0m=================================\n",
      "Name: tavily_search\n",
      "\n",
      "{\"query\": \"recent AI news\", \"follow_up_questions\": null, \"answer\": null, \"images\": [], \"results\": [{\"url\": \"https://www.zdnet.com/article/ais-not-the-only-hot-tech-trend-check-out-the-years-other-11-according-to-mckinsey/\", \"title\": \"AI's not the only hot tech trend - check out the year's other ... - ZDNET\", \"content\": \"Recent innovations in AI have also been supercharging the field of robotics, including everything from self-driving cars to humanoid robots that can fold your laundry. Building robots capable of making decisions and taking action in a dynamic physical environment is much more complicated than training algorithms to detect patterns in text; that's why we have LLMs that can write essays but relatively few autonomous vehicles on the road today. But progress is nonetheless being made. Amazon, for [...] example, recently launched DeepFleet, an AI model that coordinates the behavior of the company's fulfillment center robots. [...] ## Artificial intelligence\\n\\nIn second place in McKinsey's new report are AI systems broadly, which the firm describes as \\\"computer systems designed to perform tasks that typically require human intelligence.\\\" This encompasses agents, generative AI chatbots like ChatGPT and Gemini, predictive algorithms, and other systems designed to detect patterns across datasets and autonomously refine their performance over time.\\n\\n## Application-specific semiconductors\", \"score\": 0.72325134, \"raw_content\": null}, {\"url\": \"https://www.cbsnews.com/news/trump-uai-plan-data-centers-us-infrastructure/\", \"title\": \"White House unveils U.S. strategic plan on AI. Here's what it includes.\", \"content\": \"Watch CBS News\\n\\n# White House unveils U.S. strategic plan on AI. Here's what it includes.\\n\\nmoneywatch\\n\\nUpdated on: July 23, 2025 / 6:33 PM EDT\\n/ CBS News\\n\\nThe Trump administration on Wednesday unveiled an AI Action Plan aimed at maintaining U.S. dominance in the rapidly emerging artificial intelligence field. The initiative is part of an ongoing effort the White House began earlier this year with an executive order removing AI guardrails imposed by the Biden administration. [...] Mr. Trump spoke about the new plan during a keynote address at an AI summit in Washington, D.C., on Wednesday, after which he signed executive orders to help fast-track AI development. [...] \\\"We believe that AI systems should be free of ideological bias and not be designed to pursue socially engineered agendas,\\\" Sacks said on Wednesday. \\\"And so we have a number of proposals there on how to make sure that AI remains truth-seeking and trustworthy.\\\"\\n\\nTo that end, Kratsios said the plan will update federal procurement guidelines to ensure the government only contracts with AI developers whose systems \\\"allow free speech expression to flourish.\\\"\", \"score\": 0.6018984, \"raw_content\": null}], \"response_time\": 8.68}\n",
      "=================================\u001b[1m Tool Message \u001b[0m=================================\n",
      "Name: multiply\n",
      "\n",
      "50\n",
      "==================================\u001b[1m Ai Message \u001b[0m==================================\n",
      "\n",
      "I'll use the result. You asked for \"recent AI news\" and then 5 multiply by 10. Since the tool call id \"08d1z63q8\" yielded 50, I will provide the result of multiplying 5 by 10, which is 50.\n",
      "\n",
      "Here is the answer: The recent AI news is about various advancements in AI, including the use of AI in robotics, application-specific semiconductors, and the Trump administration's strategic plan on AI. Additionally, the answer to 5 multiplied by 10 is 50.\n"
     ]
    }
   ],
   "source": [
    "response = graph.invoke({\"messages\":\"Give me the recent AI news and then 5 multiply by 10?\"})\n",
    "# response[\"messages\"][-1].content\n",
    "for m in response[\"messages\"]:\n",
    "    m.pretty_print()"
   ]
  },
  {
   "cell_type": "markdown",
   "id": "6f89003a",
   "metadata": {},
   "source": [
    "### In  Memory savor it can also save memeory outside like postresql memory as well"
   ]
  },
  {
   "cell_type": "code",
   "execution_count": 42,
   "id": "c256704e",
   "metadata": {},
   "outputs": [
    {
     "data": {
      "image/png": "[encoded data removed]",
      "text/plain": [
       "<IPython.core.display.Image object>"
      ]
     },
     "metadata": {},
     "output_type": "display_data"
    }
   ],
   "source": [
    "from langgraph.checkpoint.memory import InMemorySaver\n",
    "memory = InMemorySaver()\n",
    "\n",
    "## Build the graph\n",
    "\n",
    "builder = StateGraph(State)\n",
    "builder.add_node(\"tool_calling_llm\", tool_calling_llm)\n",
    "builder.add_node(\"tools\", ToolNode(tools))\n",
    "\n",
    "## add adges\n",
    "\n",
    "builder.add_edge(START, \"tool_calling_llm\")\n",
    "builder.add_conditional_edges(\n",
    "    \"tool_calling_llm\", \n",
    "    # If the latest message (result) from assistant is a tool call -> tools_condition routes to tools\n",
    "    # If the latest message (result) from assistant is a not a tool call -> tools_condition routes to END\n",
    "    tools_condition\n",
    ")\n",
    "\n",
    "builder.add_edge(\"tools\", 'tool_calling_llm')\n",
    "\n",
    "graph = builder.compile(checkpointer=memory)\n",
    "## Visualize the graph\n",
    "from IPython.display import Image, display\n",
    "try:\n",
    "    display(Image(graph.get_graph().draw_mermaid_png()))\n",
    "except Exception as e:\n",
    "    print(f\"Error displaying graph: {e}\")"
   ]
  },
  {
   "cell_type": "code",
   "execution_count": 46,
   "id": "342aed1b",
   "metadata": {},
   "outputs": [
    {
     "data": {
      "text/plain": [
       "'I remember your name as Saad Alam.'"
      ]
     },
     "execution_count": 46,
     "metadata": {},
     "output_type": "execute_result"
    }
   ],
   "source": [
    "config = {\"configurable\":{\"thread_id\":\"1\"}}\n",
    "response = graph.invoke({\"messages\":\"Have you remember my name?\"}, config=config)\n",
    "response[\"messages\"][-1].content"
   ]
  },
  {
   "cell_type": "markdown",
   "id": "2e370921",
   "metadata": {},
   "source": [
    "### Streaming"
   ]
  },
  {
   "cell_type": "code",
   "execution_count": 47,
   "id": "57efd610",
   "metadata": {},
   "outputs": [],
   "source": [
    "def superbot(state: State):\n",
    "    return {\"messages\": [llm.invoke(state[\"messages\"])]}"
   ]
  },
  {
   "cell_type": "code",
   "execution_count": 49,
   "id": "1581f564",
   "metadata": {},
   "outputs": [
    {
     "data": {
      "image/png": "[encoded data removed]",
      "text/plain": [
       "<IPython.core.display.Image object>"
      ]
     },
     "metadata": {},
     "output_type": "display_data"
    }
   ],
   "source": [
    "stream_builder = StateGraph(State)\n",
    "stream_builder.add_node(\"Superbot\", superbot)\n",
    "\n",
    "stream_builder.add_edge(START, \"Superbot\")\n",
    "stream_builder.add_edge(\"Superbot\", END)\n",
    "\n",
    "\n",
    "stream_graph = stream_builder.compile(checkpointer=memory)\n",
    "\n",
    "## Visualize the graph\n",
    "from IPython.display import Image, display\n",
    "try:\n",
    "    display(Image(stream_graph.get_graph().draw_mermaid_png()))\n",
    "except Exception as e:\n",
    "    print(f\"Error displaying graph: {e}\")\n",
    "\n",
    "\n"
   ]
  },
  {
   "cell_type": "code",
   "execution_count": 52,
   "id": "60cfe16b",
   "metadata": {},
   "outputs": [
    {
     "data": {
      "text/plain": [
       "\"Nice to meet you, Saad!\\n\\nUNET (U-Net) is a popular deep learning architecture used in biomedical imaging for tasks such as image segmentation, classification, and denoising. The configuration parameters of a UNET architecture can vary depending on the specific application, dataset, and performance requirements. Here are some common configuration parameters used in biomedical imaging:\\n\\n**Encoder (Contracting Path)**\\n\\n1. **Number of Convolutional Layers**: 4-6 layers\\n2. **Filter Size**: 3x3 or 5x5\\n3. **Number of Filters**: 32-256\\n4. **Stride**: 2 (max pooling)\\n5. **Activation Function**: ReLU (Rectified Linear Unit)\\n\\n**Decoder (Expansive Path)**\\n\\n1. **Number of Convolutional Layers**: 4-6 layers\\n2. **Filter Size**: 3x3 or 5x5\\n3. **Number of Filters**: Same as encoder\\n4. **Upsampling Method**: UpSampling2D or Conv2DTranspose\\n5. **Activation Function**: ReLU (Rectified Linear Unit)\\n\\n**Output Layer**\\n\\n1. **Number of Filters**: 1 (for binary segmentation) or number of classes (for multiclass segmentation)\\n2. **Activation Function**: Sigmoid (for binary segmentation) or softmax (for multiclass segmentation)\\n\\n**Other Parameters**\\n\\n1. **Batch Normalization**: Yes, applied to the convolutional layers\\n2. **Dropout**: Yes, applied to the convolutional layers (0.2-0.5 dropout rate)\\n3. **Loss Function**: Binary cross-entropy (for binary segmentation) or categorical cross-entropy (for multiclass segmentation)\\n4. **Optimizer**: Adam or RMSprop\\n5. **Learning Rate**: 0.001-0.01 (adjust based on the dataset and task)\\n6. **Regularization**: L1 and/or L2 regularization (0.001-0.01 regularization strength)\\n\\nHere's an example of a UNET architecture configuration in Keras:\\n```python\\nfrom tensorflow.keras.models import Model\\nfrom tensorflow.keras.layers import Input, Conv2D, MaxPooling2D, UpSampling2D, Dropout\\n\\n# Define the input shape\\ninput_shape = (256, 256, 1)  # 256x256 images with 1 channel (e.g., grayscale)\\n\\n# Define the UNET architecture\\ninput_layer = Input(shape=input_shape)\\n\\nx = Conv2D(32, (3, 3), activation='relu', padding='same')(input_layer)\\nx = MaxPooling2D((2, 2))(x)\\n\\nx = Conv2D(64, (3, 3), activation='relu', padding='same')(x)\\nx = MaxPooling2D((2, 2))(x)\\n\\nx = Conv2D(128, (3, 3), activation='relu', padding='same')(x)\\nx = MaxPooling2D((2, 2))(x)\\n\\nx = Conv2D(256, (3, 3), activation='relu', padding='same')(x)\\n\\nx = UpSampling2D((2, 2))(x)\\nx = Conv2D(128, (3, 3), activation='relu', padding='same')(x)\\n\\nx = UpSampling2D((2, 2))(x)\\nx = Conv2D(64, (3, 3), activation='relu', padding='same')(x)\\n\\nx = UpSampling2D((2, 2))(x)\\nx = Conv2D(32, (3, 3), activation='relu', padding='same')(x)\\n\\noutput_layer = Conv2D(1, (1, 1), activation='sigmoid')(x)\\n\\nmodel = Model(inputs=input_layer, outputs=output_layer)\\n\\n# Compile the model\\nmodel.compile(optimizer='adam', loss='binary_crossentropy', metrics=['accuracy'])\\n```\\nThis is just an example, and you may need to adjust the architecture and hyperparameters based on your specific application and dataset.\""
      ]
     },
     "execution_count": 52,
     "metadata": {},
     "output_type": "execute_result"
    }
   ],
   "source": [
    "config = {\"configurable\":{\"thread_id\": \"2\"}}\n",
    "\n",
    "response = stream_graph.invoke({\"messages\": \"This is Saad Alam, and i want to get the configuration paramters of UNET Architecture in biomedical imaging.\"}, config=config)\n",
    "response[\"messages\"][-1].content"
   ]
  },
  {
   "cell_type": "markdown",
   "id": "198a31c8",
   "metadata": {},
   "source": [
    "### Streaming\n",
    "- Methods: .stream() and astream()\n",
    "\n",
    "These methods are sync and async methods for streaming back results.\n",
    "Additional parameters in streaming modes for graph state\n",
    "\n",
    "- values : This streams the full state of the graph after each node is called.\n",
    "- updates : This streams updates to the state of the graph after each node is called."
   ]
  },
  {
   "cell_type": "code",
   "execution_count": 57,
   "id": "46c1b229",
   "metadata": {},
   "outputs": [
    {
     "data": {
      "text/plain": [
       "[{'Superbot': {'messages': [AIMessage(content=\"Here are some common configuration parameters for UNET architecture in biomedical imaging:\\n\\n**Encoder (Contracting Path)**\\n\\n1. **Number of Convolutional Layers**: 4-6 layers\\n2. **Filter Size**: 3x3 or 5x5\\n3. **Number of Filters**: 32-256\\n4. **Stride**: 2 (max pooling)\\n5. **Activation Function**: ReLU (Rectified Linear Unit)\\n\\n**Decoder (Expansive Path)**\\n\\n1. **Number of Convolutional Layers**: 4-6 layers\\n2. **Filter Size**: 3x3 or 5x5\\n3. **Number of Filters**: Same as encoder\\n4. **Upsampling Method**: UpSampling2D or Conv2DTranspose\\n5. **Activation Function**: ReLU (Rectified Linear Unit)\\n\\n**Output Layer**\\n\\n1. **Number of Filters**: 1 (for binary segmentation) or number of classes (for multiclass segmentation)\\n2. **Activation Function**: Sigmoid (for binary segmentation) or softmax (for multiclass segmentation)\\n\\n**Other Parameters**\\n\\n1. **Batch Normalization**: Yes, applied to the convolutional layers\\n2. **Dropout**: Yes, applied to the convolutional layers (0.2-0.5 dropout rate)\\n3. **Loss Function**: Binary cross-entropy (for binary segmentation) or categorical cross-entropy (for multiclass segmentation)\\n4. **Optimizer**: Adam or RMSprop\\n5. **Learning Rate**: 0.001-0.01 (adjust based on the dataset and task)\\n6. **Regularization**: L1 and/or L2 regularization (0.001-0.01 regularization strength)\\n\\nHere's an example of a UNET architecture configuration in Keras:\\n```python\\nfrom tensorflow.keras.models import Model\\nfrom tensorflow.keras.layers import Input, Conv2D, MaxPooling2D, UpSampling2D, Dropout\\n\\n# Define the input shape\\ninput_shape = (256, 256, 1)  # 256x256 images with 1 channel (e.g., grayscale)\\n\\n# Define the UNET architecture\\ninput_layer = Input(shape=input_shape)\\n\\nx = Conv2D(32, (3, 3), activation='relu', padding='same')(input_layer)\\nx = MaxPooling2D((2, 2))(x)\\n\\nx = Conv2D(64, (3, 3), activation='relu', padding='same')(x)\\nx = MaxPooling2D((2, 2))(x)\\n\\nx = Conv2D(128, (3, 3), activation='relu', padding='same')(x)\\nx = MaxPooling2D((2, 2))(x)\\n\\nx = Conv2D(256, (3, 3), activation='relu', padding='same')(x)\\n\\nx = UpSampling2D((2, 2))(x)\\nx = Conv2D(128, (3, 3), activation='relu', padding='same')(x)\\n\\nx = UpSampling2D((2, 2))(x)\\nx = Conv2D(64, (3, 3), activation='relu', padding='same')(x)\\n\\nx = UpSampling2D((2, 2))(x)\\nx = Conv2D(32, (3, 3), activation='relu', padding='same')(x)\\n\\noutput_layer = Conv2D(1, (1, 1), activation='sigmoid')(x)\\n\\nmodel = Model(inputs=input_layer, outputs=output_layer)\\n\\n# Compile the model\\nmodel.compile(optimizer='adam', loss='binary_crossentropy', metrics=['accuracy'])\\n```\\nThis is just an example, and you may need to adjust the architecture and hyperparameters based on your specific application and dataset.\\n\\nSome popular variations of the UNET architecture in biomedical imaging include:\\n\\n1. **UNET++**: A modified version of the UNET architecture that uses a deeper encoder and a more complex decoder.\\n2. **F-UNET**: A variation of the UNET architecture that uses a fully convolutional neural network (FCNN) as the encoder.\\n3. **DeepLab**: A family of deep learning architectures that use atrous spatial pyramid pooling (ASPP) and dilated convolutions to improve segmentation performance.\\n\\nI hope this helps! Let me know if you have any further questions.\", additional_kwargs={}, response_metadata={'token_usage': {'completion_tokens': 897, 'prompt_tokens': 4692, 'total_tokens': 5589, 'completion_time': 0.909896102, 'prompt_time': 0.575527208, 'queue_time': 0.38822200900000003, 'total_time': 1.48542331}, 'model_name': 'llama3-8b-8192', 'system_fingerprint': 'fp_0fb809dba3', 'service_tier': 'on_demand', 'finish_reason': 'stop', 'logprobs': None}, id='run--857e7ed4-1c39-4ee3-89da-6254018ba2b9-0', usage_metadata={'input_tokens': 4692, 'output_tokens': 897, 'total_tokens': 5589})]}}]"
      ]
     },
     "execution_count": 57,
     "metadata": {},
     "output_type": "execute_result"
    }
   ],
   "source": [
    "\n",
    "response = stream_graph.invoke({\"messages\": \"This is Saad Alam, and i want to get the configuration paramters of UNET Architecture in biomedical imaging.\"}, config=config, stream_mode=\"updates\")\n",
    "response"
   ]
  },
  {
   "cell_type": "code",
   "execution_count": 59,
   "id": "b02e9fb3",
   "metadata": {},
   "outputs": [
    {
     "data": {
      "text/plain": [
       "{'messages': [HumanMessage(content='This is Saad Alam, and i want to get the configuration paramters of UNET Architecture in biomedical imaging.', additional_kwargs={}, response_metadata={}, id='018922e7-e8e0-41e1-8809-fd656aa0891b'),\n",
       "  AIMessage(content=\"Nice to meet you, Saad!\\n\\nUNET (U-Net) is a popular deep learning architecture used in biomedical imaging for tasks such as image segmentation, classification, and denoising. The configuration parameters of a UNET architecture can vary depending on the specific application, dataset, and performance requirements. However, I can provide you with a general overview of the common configuration parameters used in biomedical imaging:\\n\\n1. **Network Architecture:**\\n\\t* Encoder (Contracting Path): Typically consists of convolutional layers (Conv2D) with a stride of 2, followed by max pooling layers (MaxPooling2D).\\n\\t* Decoder (Expansive Path): Typically consists of convolutional layers (Conv2D) with a stride of 2, followed by upsampling layers (UpSampling2D).\\n2. **Number of Convolutional Layers:**\\n\\t* The number of convolutional layers in the encoder and decoder can vary, but typically ranges from 4 to 6.\\n3. **Filter Size and Number of Filters:**\\n\\t* Filter size: Typically ranges from 3x3 to 5x5.\\n\\t* Number of filters: Typically ranges from 32 to 256.\\n4. **Activation Functions:**\\n\\t* ReLU (Rectified Linear Unit) is commonly used as the activation function for the convolutional layers.\\n\\t* Sigmoid or softmax are commonly used as the activation functions for the output layer.\\n5. **Batch Normalization:**\\n\\t* Batch normalization is often applied to the convolutional layers to stabilize the training process.\\n6. **Loss Function:**\\n\\t* Commonly used loss functions include binary cross-entropy, categorical cross-entropy, and mean squared error.\\n7. **Optimizer:**\\n\\t* Commonly used optimizers include Adam, RMSprop, and stochastic gradient descent (SGD).\\n8. **Learning Rate:**\\n\\t* The learning rate is typically adjusted during training to find the optimal value.\\n9. **Regularization Techniques:**\\n\\t* Dropout is commonly used to prevent overfitting.\\n\\t* L1 and L2 regularization can be used to reduce overfitting.\\n10. **Input and Output Shapes:**\\n\\t* Input shape: Typically depends on the size of the input images.\\n\\t* Output shape: Typically depends on the specific application (e.g., binary segmentation masks, class probabilities).\\n\\nHere's an example of a UNET architecture configuration in Keras:\\n```python\\nfrom tensorflow.keras.models import Model\\nfrom tensorflow.keras.layers import Input, Conv2D, MaxPooling2D, UpSampling2D, Dropout\\n\\n# Define the input shape\\ninput_shape = (256, 256, 1)  # 256x256 images with 1 channel (e.g., grayscale)\\n\\n# Define the number of filters and filter size\\nn_filters = 32\\nfilter_size = (3, 3)\\n\\n# Define the number of convolutional layers\\nn_conv_layers = 4\\n\\n# Define the UNET architecture\\ninput_layer = Input(shape=input_shape)\\n\\nx = Conv2D(n_filters, filter_size, activation='relu')(input_layer)\\nx = MaxPooling2D((2, 2))(x)\\n\\nfor _ in range(n_conv_layers - 1):\\n    x = Conv2D(n_filters, filter_size, activation='relu')(x)\\n    x = MaxPooling2D((2, 2))(x)\\n\\nx = Conv2D(n_filters, filter_size, activation='relu')(x)\\n\\nx = UpSampling2D((2, 2))(x)\\nx = Conv2D(n_filters, filter_size, activation='relu')(x)\\n\\nfor _ in range(n_conv_layers - 1):\\n    x = Conv2D(n_filters, filter_size, activation='relu')(x)\\n    x = UpSampling2D((2, 2))(x)\\n\\nx = Conv2D(1, (1, 1), activation='sigmoid')(x)\\n\\nmodel = Model(inputs=input_layer, outputs=x)\\n\\n# Compile the model\\nmodel.compile(optimizer='adam', loss='binary_crossentropy', metrics=['accuracy'])\\n```\\nThis is just an example, and you may need to adjust the architecture and hyperparameters based on your specific application and dataset.\", additional_kwargs={}, response_metadata={'token_usage': {'completion_tokens': 864, 'prompt_tokens': 33, 'total_tokens': 897, 'completion_time': 0.845065741, 'prompt_time': 0.008840484, 'queue_time': 0.317053849, 'total_time': 0.853906225}, 'model_name': 'llama3-8b-8192', 'system_fingerprint': 'fp_0fb809dba3', 'service_tier': 'on_demand', 'finish_reason': 'stop', 'logprobs': None}, id='run--310ec5ee-717d-403a-8d8f-0d76ec857eb1-0', usage_metadata={'input_tokens': 33, 'output_tokens': 864, 'total_tokens': 897}),\n",
       "  HumanMessage(content='This is Saad Alam, and i want to get the configuration paramters of UNET Architecture in biomedical imaging.', additional_kwargs={}, response_metadata={}, id='5847be95-96b9-48b4-9556-832d8ea531d2'),\n",
       "  AIMessage(content=\"Nice to meet you, Saad!\\n\\nUNET (U-Net) is a popular deep learning architecture used in biomedical imaging for tasks such as image segmentation, classification, and denoising. The configuration parameters of a UNET architecture can vary depending on the specific application, dataset, and performance requirements. Here are some common configuration parameters used in biomedical imaging:\\n\\n**Encoder (Contracting Path)**\\n\\n1. **Number of Convolutional Layers**: 4-6 layers\\n2. **Filter Size**: 3x3 or 5x5\\n3. **Number of Filters**: 32-256\\n4. **Stride**: 2 (max pooling)\\n5. **Activation Function**: ReLU (Rectified Linear Unit)\\n\\n**Decoder (Expansive Path)**\\n\\n1. **Number of Convolutional Layers**: 4-6 layers\\n2. **Filter Size**: 3x3 or 5x5\\n3. **Number of Filters**: Same as encoder\\n4. **Upsampling Method**: UpSampling2D or Conv2DTranspose\\n5. **Activation Function**: ReLU (Rectified Linear Unit)\\n\\n**Output Layer**\\n\\n1. **Number of Filters**: 1 (for binary segmentation) or number of classes (for multiclass segmentation)\\n2. **Activation Function**: Sigmoid (for binary segmentation) or softmax (for multiclass segmentation)\\n\\n**Other Parameters**\\n\\n1. **Batch Normalization**: Yes, applied to the convolutional layers\\n2. **Dropout**: Yes, applied to the convolutional layers (0.2-0.5 dropout rate)\\n3. **Loss Function**: Binary cross-entropy (for binary segmentation) or categorical cross-entropy (for multiclass segmentation)\\n4. **Optimizer**: Adam or RMSprop\\n5. **Learning Rate**: 0.001-0.01 (adjust based on the dataset and task)\\n6. **Regularization**: L1 and/or L2 regularization (0.001-0.01 regularization strength)\\n\\nHere's an example of a UNET architecture configuration in Keras:\\n```python\\nfrom tensorflow.keras.models import Model\\nfrom tensorflow.keras.layers import Input, Conv2D, MaxPooling2D, UpSampling2D, Dropout\\n\\n# Define the input shape\\ninput_shape = (256, 256, 1)  # 256x256 images with 1 channel (e.g., grayscale)\\n\\n# Define the UNET architecture\\ninput_layer = Input(shape=input_shape)\\n\\nx = Conv2D(32, (3, 3), activation='relu', padding='same')(input_layer)\\nx = MaxPooling2D((2, 2))(x)\\n\\nx = Conv2D(64, (3, 3), activation='relu', padding='same')(x)\\nx = MaxPooling2D((2, 2))(x)\\n\\nx = Conv2D(128, (3, 3), activation='relu', padding='same')(x)\\nx = MaxPooling2D((2, 2))(x)\\n\\nx = Conv2D(256, (3, 3), activation='relu', padding='same')(x)\\n\\nx = UpSampling2D((2, 2))(x)\\nx = Conv2D(128, (3, 3), activation='relu', padding='same')(x)\\n\\nx = UpSampling2D((2, 2))(x)\\nx = Conv2D(64, (3, 3), activation='relu', padding='same')(x)\\n\\nx = UpSampling2D((2, 2))(x)\\nx = Conv2D(32, (3, 3), activation='relu', padding='same')(x)\\n\\noutput_layer = Conv2D(1, (1, 1), activation='sigmoid')(x)\\n\\nmodel = Model(inputs=input_layer, outputs=output_layer)\\n\\n# Compile the model\\nmodel.compile(optimizer='adam', loss='binary_crossentropy', metrics=['accuracy'])\\n```\\nThis is just an example, and you may need to adjust the architecture and hyperparameters based on your specific application and dataset.\", additional_kwargs={}, response_metadata={'token_usage': {'completion_tokens': 838, 'prompt_tokens': 929, 'total_tokens': 1767, 'completion_time': 0.813322516, 'prompt_time': 0.102390767, 'queue_time': 0.195446956, 'total_time': 0.915713283}, 'model_name': 'llama3-8b-8192', 'system_fingerprint': 'fp_0fb809dba3', 'service_tier': 'on_demand', 'finish_reason': 'stop', 'logprobs': None}, id='run--f8d99bd8-9acd-411a-b522-412ca1b24dc7-0', usage_metadata={'input_tokens': 929, 'output_tokens': 838, 'total_tokens': 1767}),\n",
       "  HumanMessage(content='This is Saad Alam, and i want to get the configuration paramters of UNET Architecture in biomedical imaging.', additional_kwargs={}, response_metadata={}, id='72b1c177-9e5f-4139-a64b-27ea17309e1c'),\n",
       "  AIMessage(content=\"Nice to meet you, Saad!\\n\\nUNET (U-Net) is a popular deep learning architecture used in biomedical imaging for tasks such as image segmentation, classification, and denoising. The configuration parameters of a UNET architecture can vary depending on the specific application, dataset, and performance requirements. Here are some common configuration parameters used in biomedical imaging:\\n\\n**Encoder (Contracting Path)**\\n\\n1. **Number of Convolutional Layers**: 4-6 layers\\n2. **Filter Size**: 3x3 or 5x5\\n3. **Number of Filters**: 32-256\\n4. **Stride**: 2 (max pooling)\\n5. **Activation Function**: ReLU (Rectified Linear Unit)\\n\\n**Decoder (Expansive Path)**\\n\\n1. **Number of Convolutional Layers**: 4-6 layers\\n2. **Filter Size**: 3x3 or 5x5\\n3. **Number of Filters**: Same as encoder\\n4. **Upsampling Method**: UpSampling2D or Conv2DTranspose\\n5. **Activation Function**: ReLU (Rectified Linear Unit)\\n\\n**Output Layer**\\n\\n1. **Number of Filters**: 1 (for binary segmentation) or number of classes (for multiclass segmentation)\\n2. **Activation Function**: Sigmoid (for binary segmentation) or softmax (for multiclass segmentation)\\n\\n**Other Parameters**\\n\\n1. **Batch Normalization**: Yes, applied to the convolutional layers\\n2. **Dropout**: Yes, applied to the convolutional layers (0.2-0.5 dropout rate)\\n3. **Loss Function**: Binary cross-entropy (for binary segmentation) or categorical cross-entropy (for multiclass segmentation)\\n4. **Optimizer**: Adam or RMSprop\\n5. **Learning Rate**: 0.001-0.01 (adjust based on the dataset and task)\\n6. **Regularization**: L1 and/or L2 regularization (0.001-0.01 regularization strength)\\n\\nHere's an example of a UNET architecture configuration in Keras:\\n```python\\nfrom tensorflow.keras.models import Model\\nfrom tensorflow.keras.layers import Input, Conv2D, MaxPooling2D, UpSampling2D, Dropout\\n\\n# Define the input shape\\ninput_shape = (256, 256, 1)  # 256x256 images with 1 channel (e.g., grayscale)\\n\\n# Define the UNET architecture\\ninput_layer = Input(shape=input_shape)\\n\\nx = Conv2D(32, (3, 3), activation='relu', padding='same')(input_layer)\\nx = MaxPooling2D((2, 2))(x)\\n\\nx = Conv2D(64, (3, 3), activation='relu', padding='same')(x)\\nx = MaxPooling2D((2, 2))(x)\\n\\nx = Conv2D(128, (3, 3), activation='relu', padding='same')(x)\\nx = MaxPooling2D((2, 2))(x)\\n\\nx = Conv2D(256, (3, 3), activation='relu', padding='same')(x)\\n\\nx = UpSampling2D((2, 2))(x)\\nx = Conv2D(128, (3, 3), activation='relu', padding='same')(x)\\n\\nx = UpSampling2D((2, 2))(x)\\nx = Conv2D(64, (3, 3), activation='relu', padding='same')(x)\\n\\nx = UpSampling2D((2, 2))(x)\\nx = Conv2D(32, (3, 3), activation='relu', padding='same')(x)\\n\\noutput_layer = Conv2D(1, (1, 1), activation='sigmoid')(x)\\n\\nmodel = Model(inputs=input_layer, outputs=output_layer)\\n\\n# Compile the model\\nmodel.compile(optimizer='adam', loss='binary_crossentropy', metrics=['accuracy'])\\n```\\nThis is just an example, and you may need to adjust the architecture and hyperparameters based on your specific application and dataset.\\n\\nSome popular variations of the UNET architecture in biomedical imaging include:\\n\\n1. **UNET++**: A modified version of the UNET architecture that uses a deeper encoder and a more complex decoder.\\n2. **F-UNET**: A variation of the UNET architecture that uses a fully convolutional neural network (FCNN) as the encoder.\\n3. **DeepLab**: A family of deep learning architectures that use atrous spatial pyramid pooling (ASPP) and dilated convolutions to improve segmentation performance.\\n\\nI hope this helps! Let me know if you have any further questions.\", additional_kwargs={}, response_metadata={'token_usage': {'completion_tokens': 954, 'prompt_tokens': 1799, 'total_tokens': 2753, 'completion_time': 0.800430201, 'prompt_time': 0.202782503, 'queue_time': 0.291372419, 'total_time': 1.003212704}, 'model_name': 'llama3-8b-8192', 'system_fingerprint': 'fp_5b339000ab', 'service_tier': 'on_demand', 'finish_reason': 'stop', 'logprobs': None}, id='run--e98e6d41-4d21-466b-9440-82e1c5e6d57b-0', usage_metadata={'input_tokens': 1799, 'output_tokens': 954, 'total_tokens': 2753}),\n",
       "  HumanMessage(content='This is Saad Alam, and i want to get the configuration paramters of UNET Architecture in biomedical imaging.', additional_kwargs={}, response_metadata={}, id='fa76c888-bd02-4d18-a73f-15009f68a5d3'),\n",
       "  AIMessage(content=\"Nice to meet you, Saad!\\n\\nHere are some common configuration parameters for UNET architecture in biomedical imaging:\\n\\n**Encoder (Contracting Path)**\\n\\n1. **Number of Convolutional Layers**: 4-6 layers\\n2. **Filter Size**: 3x3 or 5x5\\n3. **Number of Filters**: 32-256\\n4. **Stride**: 2 (max pooling)\\n5. **Activation Function**: ReLU (Rectified Linear Unit)\\n\\n**Decoder (Expansive Path)**\\n\\n1. **Number of Convolutional Layers**: 4-6 layers\\n2. **Filter Size**: 3x3 or 5x5\\n3. **Number of Filters**: Same as encoder\\n4. **Upsampling Method**: UpSampling2D or Conv2DTranspose\\n5. **Activation Function**: ReLU (Rectified Linear Unit)\\n\\n**Output Layer**\\n\\n1. **Number of Filters**: 1 (for binary segmentation) or number of classes (for multiclass segmentation)\\n2. **Activation Function**: Sigmoid (for binary segmentation) or softmax (for multiclass segmentation)\\n\\n**Other Parameters**\\n\\n1. **Batch Normalization**: Yes, applied to the convolutional layers\\n2. **Dropout**: Yes, applied to the convolutional layers (0.2-0.5 dropout rate)\\n3. **Loss Function**: Binary cross-entropy (for binary segmentation) or categorical cross-entropy (for multiclass segmentation)\\n4. **Optimizer**: Adam or RMSprop\\n5. **Learning Rate**: 0.001-0.01 (adjust based on the dataset and task)\\n6. **Regularization**: L1 and/or L2 regularization (0.001-0.01 regularization strength)\\n\\nHere's an example of a UNET architecture configuration in Keras:\\n```python\\nfrom tensorflow.keras.models import Model\\nfrom tensorflow.keras.layers import Input, Conv2D, MaxPooling2D, UpSampling2D, Dropout\\n\\n# Define the input shape\\ninput_shape = (256, 256, 1)  # 256x256 images with 1 channel (e.g., grayscale)\\n\\n# Define the UNET architecture\\ninput_layer = Input(shape=input_shape)\\n\\nx = Conv2D(32, (3, 3), activation='relu', padding='same')(input_layer)\\nx = MaxPooling2D((2, 2))(x)\\n\\nx = Conv2D(64, (3, 3), activation='relu', padding='same')(x)\\nx = MaxPooling2D((2, 2))(x)\\n\\nx = Conv2D(128, (3, 3), activation='relu', padding='same')(x)\\nx = MaxPooling2D((2, 2))(x)\\n\\nx = Conv2D(256, (3, 3), activation='relu', padding='same')(x)\\n\\nx = UpSampling2D((2, 2))(x)\\nx = Conv2D(128, (3, 3), activation='relu', padding='same')(x)\\n\\nx = UpSampling2D((2, 2))(x)\\nx = Conv2D(64, (3, 3), activation='relu', padding='same')(x)\\n\\nx = UpSampling2D((2, 2))(x)\\nx = Conv2D(32, (3, 3), activation='relu', padding='same')(x)\\n\\noutput_layer = Conv2D(1, (1, 1), activation='sigmoid')(x)\\n\\nmodel = Model(inputs=input_layer, outputs=output_layer)\\n\\n# Compile the model\\nmodel.compile(optimizer='adam', loss='binary_crossentropy', metrics=['accuracy'])\\n```\\nThis is just an example, and you may need to adjust the architecture and hyperparameters based on your specific application and dataset.\\n\\nSome popular variations of the UNET architecture in biomedical imaging include:\\n\\n1. **UNET++**: A modified version of the UNET architecture that uses a deeper encoder and a more complex decoder.\\n2. **F-UNET**: A variation of the UNET architecture that uses a fully convolutional neural network (FCNN) as the encoder.\\n3. **DeepLab**: A family of deep learning architectures that use atrous spatial pyramid pooling (ASPP) and dilated convolutions to improve segmentation performance.\\n\\nI hope this helps! Let me know if you have any further questions.\", additional_kwargs={}, response_metadata={'token_usage': {'completion_tokens': 905, 'prompt_tokens': 2785, 'total_tokens': 3690, 'completion_time': 0.91966452, 'prompt_time': 0.614696137, 'queue_time': 0.33834490399999995, 'total_time': 1.5343606570000001}, 'model_name': 'llama3-8b-8192', 'system_fingerprint': 'fp_0fb809dba3', 'service_tier': 'on_demand', 'finish_reason': 'stop', 'logprobs': None}, id='run--1c68384a-6c63-4045-aa52-962135c21a68-0', usage_metadata={'input_tokens': 2785, 'output_tokens': 905, 'total_tokens': 3690}),\n",
       "  HumanMessage(content='This is Saad Alam, and i want to get the configuration paramters of UNET Architecture in biomedical imaging.', additional_kwargs={}, response_metadata={}, id='0284ca90-5c78-42de-941d-0e3d4deebbe6'),\n",
       "  AIMessage(content=\"Nice to meet you, Saad!\\n\\nHere are some common configuration parameters for UNET architecture in biomedical imaging:\\n\\n**Encoder (Contracting Path)**\\n\\n1. **Number of Convolutional Layers**: 4-6 layers\\n2. **Filter Size**: 3x3 or 5x5\\n3. **Number of Filters**: 32-256\\n4. **Stride**: 2 (max pooling)\\n5. **Activation Function**: ReLU (Rectified Linear Unit)\\n\\n**Decoder (Expansive Path)**\\n\\n1. **Number of Convolutional Layers**: 4-6 layers\\n2. **Filter Size**: 3x3 or 5x5\\n3. **Number of Filters**: Same as encoder\\n4. **Upsampling Method**: UpSampling2D or Conv2DTranspose\\n5. **Activation Function**: ReLU (Rectified Linear Unit)\\n\\n**Output Layer**\\n\\n1. **Number of Filters**: 1 (for binary segmentation) or number of classes (for multiclass segmentation)\\n2. **Activation Function**: Sigmoid (for binary segmentation) or softmax (for multiclass segmentation)\\n\\n**Other Parameters**\\n\\n1. **Batch Normalization**: Yes, applied to the convolutional layers\\n2. **Dropout**: Yes, applied to the convolutional layers (0.2-0.5 dropout rate)\\n3. **Loss Function**: Binary cross-entropy (for binary segmentation) or categorical cross-entropy (for multiclass segmentation)\\n4. **Optimizer**: Adam or RMSprop\\n5. **Learning Rate**: 0.001-0.01 (adjust based on the dataset and task)\\n6. **Regularization**: L1 and/or L2 regularization (0.001-0.01 regularization strength)\\n\\nHere's an example of a UNET architecture configuration in Keras:\\n```python\\nfrom tensorflow.keras.models import Model\\nfrom tensorflow.keras.layers import Input, Conv2D, MaxPooling2D, UpSampling2D, Dropout\\n\\n# Define the input shape\\ninput_shape = (256, 256, 1)  # 256x256 images with 1 channel (e.g., grayscale)\\n\\n# Define the UNET architecture\\ninput_layer = Input(shape=input_shape)\\n\\nx = Conv2D(32, (3, 3), activation='relu', padding='same')(input_layer)\\nx = MaxPooling2D((2, 2))(x)\\n\\nx = Conv2D(64, (3, 3), activation='relu', padding='same')(x)\\nx = MaxPooling2D((2, 2))(x)\\n\\nx = Conv2D(128, (3, 3), activation='relu', padding='same')(x)\\nx = MaxPooling2D((2, 2))(x)\\n\\nx = Conv2D(256, (3, 3), activation='relu', padding='same')(x)\\n\\nx = UpSampling2D((2, 2))(x)\\nx = Conv2D(128, (3, 3), activation='relu', padding='same')(x)\\n\\nx = UpSampling2D((2, 2))(x)\\nx = Conv2D(64, (3, 3), activation='relu', padding='same')(x)\\n\\nx = UpSampling2D((2, 2))(x)\\nx = Conv2D(32, (3, 3), activation='relu', padding='same')(x)\\n\\noutput_layer = Conv2D(1, (1, 1), activation='sigmoid')(x)\\n\\nmodel = Model(inputs=input_layer, outputs=output_layer)\\n\\n# Compile the model\\nmodel.compile(optimizer='adam', loss='binary_crossentropy', metrics=['accuracy'])\\n```\\nThis is just an example, and you may need to adjust the architecture and hyperparameters based on your specific application and dataset.\\n\\nSome popular variations of the UNET architecture in biomedical imaging include:\\n\\n1. **UNET++**: A modified version of the UNET architecture that uses a deeper encoder and a more complex decoder.\\n2. **F-UNET**: A variation of the UNET architecture that uses a fully convolutional neural network (FCNN) as the encoder.\\n3. **DeepLab**: A family of deep learning architectures that use atrous spatial pyramid pooling (ASPP) and dilated convolutions to improve segmentation performance.\\n\\nI hope this helps! Let me know if you have any further questions.\", additional_kwargs={}, response_metadata={'token_usage': {'completion_tokens': 905, 'prompt_tokens': 3722, 'total_tokens': 4627, 'completion_time': 0.917129849, 'prompt_time': 0.478563666, 'queue_time': 0.33789390399999997, 'total_time': 1.395693515}, 'model_name': 'llama3-8b-8192', 'system_fingerprint': 'fp_0fb809dba3', 'service_tier': 'on_demand', 'finish_reason': 'stop', 'logprobs': None}, id='run--7c38f586-b0d0-4e78-8b7c-78c074055b83-0', usage_metadata={'input_tokens': 3722, 'output_tokens': 905, 'total_tokens': 4627}),\n",
       "  HumanMessage(content='This is Saad Alam, and i want to get the configuration paramters of UNET Architecture in biomedical imaging.', additional_kwargs={}, response_metadata={}, id='9e05efc2-741c-4dca-980b-0fef402e5212'),\n",
       "  HumanMessage(content='This is Saad Alam, and i want to get the configuration paramters of UNET Architecture in biomedical imaging.', additional_kwargs={}, response_metadata={}, id='f550c09d-679d-425a-a237-bf89e4339da6'),\n",
       "  AIMessage(content=\"Here are some common configuration parameters for UNET architecture in biomedical imaging:\\n\\n**Encoder (Contracting Path)**\\n\\n1. **Number of Convolutional Layers**: 4-6 layers\\n2. **Filter Size**: 3x3 or 5x5\\n3. **Number of Filters**: 32-256\\n4. **Stride**: 2 (max pooling)\\n5. **Activation Function**: ReLU (Rectified Linear Unit)\\n\\n**Decoder (Expansive Path)**\\n\\n1. **Number of Convolutional Layers**: 4-6 layers\\n2. **Filter Size**: 3x3 or 5x5\\n3. **Number of Filters**: Same as encoder\\n4. **Upsampling Method**: UpSampling2D or Conv2DTranspose\\n5. **Activation Function**: ReLU (Rectified Linear Unit)\\n\\n**Output Layer**\\n\\n1. **Number of Filters**: 1 (for binary segmentation) or number of classes (for multiclass segmentation)\\n2. **Activation Function**: Sigmoid (for binary segmentation) or softmax (for multiclass segmentation)\\n\\n**Other Parameters**\\n\\n1. **Batch Normalization**: Yes, applied to the convolutional layers\\n2. **Dropout**: Yes, applied to the convolutional layers (0.2-0.5 dropout rate)\\n3. **Loss Function**: Binary cross-entropy (for binary segmentation) or categorical cross-entropy (for multiclass segmentation)\\n4. **Optimizer**: Adam or RMSprop\\n5. **Learning Rate**: 0.001-0.01 (adjust based on the dataset and task)\\n6. **Regularization**: L1 and/or L2 regularization (0.001-0.01 regularization strength)\\n\\nHere's an example of a UNET architecture configuration in Keras:\\n```python\\nfrom tensorflow.keras.models import Model\\nfrom tensorflow.keras.layers import Input, Conv2D, MaxPooling2D, UpSampling2D, Dropout\\n\\n# Define the input shape\\ninput_shape = (256, 256, 1)  # 256x256 images with 1 channel (e.g., grayscale)\\n\\n# Define the UNET architecture\\ninput_layer = Input(shape=input_shape)\\n\\nx = Conv2D(32, (3, 3), activation='relu', padding='same')(input_layer)\\nx = MaxPooling2D((2, 2))(x)\\n\\nx = Conv2D(64, (3, 3), activation='relu', padding='same')(x)\\nx = MaxPooling2D((2, 2))(x)\\n\\nx = Conv2D(128, (3, 3), activation='relu', padding='same')(x)\\nx = MaxPooling2D((2, 2))(x)\\n\\nx = Conv2D(256, (3, 3), activation='relu', padding='same')(x)\\n\\nx = UpSampling2D((2, 2))(x)\\nx = Conv2D(128, (3, 3), activation='relu', padding='same')(x)\\n\\nx = UpSampling2D((2, 2))(x)\\nx = Conv2D(64, (3, 3), activation='relu', padding='same')(x)\\n\\nx = UpSampling2D((2, 2))(x)\\nx = Conv2D(32, (3, 3), activation='relu', padding='same')(x)\\n\\noutput_layer = Conv2D(1, (1, 1), activation='sigmoid')(x)\\n\\nmodel = Model(inputs=input_layer, outputs=output_layer)\\n\\n# Compile the model\\nmodel.compile(optimizer='adam', loss='binary_crossentropy', metrics=['accuracy'])\\n```\\nThis is just an example, and you may need to adjust the architecture and hyperparameters based on your specific application and dataset.\\n\\nSome popular variations of the UNET architecture in biomedical imaging include:\\n\\n1. **UNET++**: A modified version of the UNET architecture that uses a deeper encoder and a more complex decoder.\\n2. **F-UNET**: A variation of the UNET architecture that uses a fully convolutional neural network (FCNN) as the encoder.\\n3. **DeepLab**: A family of deep learning architectures that use atrous spatial pyramid pooling (ASPP) and dilated convolutions to improve segmentation performance.\\n\\nI hope this helps! Let me know if you have any further questions.\", additional_kwargs={}, response_metadata={'token_usage': {'completion_tokens': 897, 'prompt_tokens': 4692, 'total_tokens': 5589, 'completion_time': 0.909896102, 'prompt_time': 0.575527208, 'queue_time': 0.38822200900000003, 'total_time': 1.48542331}, 'model_name': 'llama3-8b-8192', 'system_fingerprint': 'fp_0fb809dba3', 'service_tier': 'on_demand', 'finish_reason': 'stop', 'logprobs': None}, id='run--857e7ed4-1c39-4ee3-89da-6254018ba2b9-0', usage_metadata={'input_tokens': 4692, 'output_tokens': 897, 'total_tokens': 5589}),\n",
       "  HumanMessage(content='This is Saad Alam, and i want to get the configuration paramters of UNET Architecture in biomedical imaging.', additional_kwargs={}, response_metadata={}, id='a456c59b-76a1-434b-b435-6fdf831e725c'),\n",
       "  AIMessage(content=\"Nice to meet you, Saad!\\n\\nHere are some common configuration parameters for UNET architecture in biomedical imaging:\\n\\n**Encoder (Contracting Path)**\\n\\n1. **Number of Convolutional Layers**: 4-6 layers\\n2. **Filter Size**: 3x3 or 5x5\\n3. **Number of Filters**: 32-256\\n4. **Stride**: 2 (max pooling)\\n5. **Activation Function**: ReLU (Rectified Linear Unit)\\n\\n**Decoder (Expansive Path)**\\n\\n1. **Number of Convolutional Layers**: 4-6 layers\\n2. **Filter Size**: 3x3 or 5x5\\n3. **Number of Filters**: Same as encoder\\n4. **Upsampling Method**: UpSampling2D or Conv2DTranspose\\n5. **Activation Function**: ReLU (Rectified Linear Unit)\\n\\n**Output Layer**\\n\\n1. **Number of Filters**: 1 (for binary segmentation) or number of classes (for multiclass segmentation)\\n2. **Activation Function**: Sigmoid (for binary segmentation) or softmax (for multiclass segmentation)\\n\\n**Other Parameters**\\n\\n1. **Batch Normalization**: Yes, applied to the convolutional layers\\n2. **Dropout**: Yes, applied to the convolutional layers (0.2-0.5 dropout rate)\\n3. **Loss Function**: Binary cross-entropy (for binary segmentation) or categorical cross-entropy (for multiclass segmentation)\\n4. **Optimizer**: Adam or RMSprop\\n5. **Learning Rate**: 0.001-0.01 (adjust based on the dataset and task)\\n6. **Regularization**: L1 and/or L2 regularization (0.001-0.01 regularization strength)\\n\\nHere's an example of a UNET architecture configuration in Keras:\\n```python\\nfrom tensorflow.keras.models import Model\\nfrom tensorflow.keras.layers\", additional_kwargs={}, response_metadata={'token_usage': {'completion_tokens': 388, 'prompt_tokens': 5621, 'total_tokens': 6009, 'completion_time': 0.393970212, 'prompt_time': 0.682292937, 'queue_time': 0.335153554, 'total_time': 1.076263149}, 'model_name': 'llama3-8b-8192', 'system_fingerprint': 'fp_0fb809dba3', 'service_tier': 'on_demand', 'finish_reason': 'stop', 'logprobs': None}, id='run--1632ebc1-3e51-4de7-88c4-68e06acdda2d-0', usage_metadata={'input_tokens': 5621, 'output_tokens': 388, 'total_tokens': 6009}),\n",
       "  HumanMessage(content='This is Saad Alam, and i want to get the configuration paramters of UNET Architecture in biomedical imaging.', additional_kwargs={}, response_metadata={}, id='95a5b457-064c-4d0c-a100-4836f4baeb16'),\n",
       "  AIMessage(content=\"Nice to meet you, Saad!\\n\\nHere are some common configuration parameters for UNET architecture in biomedical imaging:\\n\\n**Encoder (Contracting Path)**\\n\\n1. **Number of Convolutional Layers**: 4-6 layers\\n2. **Filter Size**: 3x3 or 5x5\\n3. **Number of Filters**: 32-256\\n4. **Stride**: 2 (max pooling)\\n5. **Activation Function**: ReLU (Rectified Linear Unit)\\n\\n**Decoder (Expansive Path)**\\n\\n1. **Number of Convolutional Layers**: 4-6 layers\\n2. **Filter Size**: 3x3 or 5x5\\n3. **Number of Filters**: Same as encoder\\n4. **Upsampling Method**: UpSampling2D or Conv2DTranspose\\n5. **Activation Function**: ReLU (Rectified Linear Unit)\\n\\n**Output Layer**\\n\\n1. **Number of Filters**: 1 (for binary segmentation) or number of classes (for multiclass segmentation)\\n2. **Activation Function**: Sigmoid (for binary segmentation) or softmax (for multiclass segmentation)\\n\\n**Other Parameters**\\n\\n1. **Batch Normalization**: Yes, applied to the convolutional layers\\n2. **Dropout**: Yes, applied to the convolutional layers (0.2-0.5 dropout rate)\\n3. **Loss Function**: Binary cross-entropy (for binary segmentation) or categorical cross-entropy (for multiclass segmentation)\\n4. **Optimizer**: Adam or RMSprop\\n5. **Learning Rate**: 0.001-0.01 (adjust based on the dataset and task)\\n6. **Regularization**: L1 and/or L2 regularization (0.001-0.01 regularization strength)\\n\\nHere's an example of a UNET architecture configuration in Keras:\\n```python\\nfrom tensorflow.keras.models import Model\\nfrom tensorflow.keras.layers import Input, Conv2D, MaxPooling2D, UpSampling2D, Dropout\\n\\n# Define the input shape\\ninput_shape = (256, 256, 1)  # 256x256 images with 1 channel (e.g., grayscale)\\n\\n# Define the UNET architecture\\ninput_layer = Input(shape=input_shape)\\n\\nx = Conv2D(32, (3, 3), activation='relu', padding='same')(input_layer)\\nx = MaxPooling2D((2, 2))(x)\\n\\nx = Conv2D(64, (3, 3), activation='relu', padding='same')(x)\\nx = MaxPooling2D((2, 2))(x)\\n\\nx = Conv2D(128, (3, 3), activation='relu', padding='same')(x)\\nx = MaxPooling2D((2, 2))(x)\\n\\nx = Conv2D(256, (3, 3), activation='relu', padding='same')(x)\\n\\nx = UpSampling2D((2, 2))(x)\\nx = Conv2D(128, (3, 3), activation='relu', padding='same')(x)\\n\\nx = UpSampling2D((2, 2))(x)\\nx = Conv2D(64, (3, 3), activation='relu', padding='same')(x)\\n\\nx = UpSampling2D((2, 2))(x)\\nx = Conv2D(32, (3, 3), activation='relu', padding='same')(x)\\n\\noutput_layer = Conv2D(1, (1, 1), activation='sigmoid')(x)\\n\\nmodel = Model(inputs=input_layer, outputs=output_layer)\\n\\n# Compile the model\\nmodel.compile(optimizer='adam', loss='binary_crossentropy', metrics=['accuracy'])\\n```\\nThis is just an example, and you may need to adjust the architecture and hyperparameters based on your specific application and dataset.\\n\\nSome popular variations of the UNET architecture in biomedical imaging include:\\n\\n1. **UNET++**: A modified version of the UNET architecture that uses a deeper encoder and a more complex decoder.\\n2. **F-UNET**: A variation of the UNET architecture that uses a fully convolutional neural network (FCNN) as the encoder.\\n3. **DeepLab**: A family of deep learning architectures that use atrous spatial pyramid pooling (ASPP) and dilated convolutions to improve segmentation performance.\\n\\nI hope this helps! Let me know if you have any further questions.\", additional_kwargs={}, response_metadata={'token_usage': {'completion_tokens': 905, 'prompt_tokens': 6041, 'total_tokens': 6946, 'completion_time': 0.756048978, 'prompt_time': 0.795098043, 'queue_time': 0.4858106139999999, 'total_time': 1.551147021}, 'model_name': 'llama3-8b-8192', 'system_fingerprint': 'fp_5b339000ab', 'service_tier': 'on_demand', 'finish_reason': 'stop', 'logprobs': None}, id='run--b5efa449-4dd5-4407-8c9d-d4f7a7b01f19-0', usage_metadata={'input_tokens': 6041, 'output_tokens': 905, 'total_tokens': 6946})]}"
      ]
     },
     "execution_count": 59,
     "metadata": {},
     "output_type": "execute_result"
    }
   ],
   "source": [
    "\n",
    "response = stream_graph.invoke({\"messages\": \"This is Saad Alam, and i want to get the configuration paramters of UNET Architecture in biomedical imaging.\"}, config=config, stream_mode=\"values\")\n",
    "response"
   ]
  },
  {
   "cell_type": "code",
   "execution_count": null,
   "id": "ac6c1808",
   "metadata": {},
   "outputs": [
    {
     "data": {
      "text/plain": [
       "<generator object Pregel.stream at 0x76deabb6c120>"
      ]
     },
     "execution_count": 60,
     "metadata": {},
     "output_type": "execute_result"
    }
   ],
   "source": [
    "response = stream_graph.invoke({\"messages\": \"This is Saad Alam, and i want to get the configuration paramters of UNET Architecture in biomedical imaging.\"}, config=config, stream_mode=\"values\")\n",
    "response"
   ]
  }
 ],
 "metadata": {
  "kernelspec": {
   "display_name": "AgenticAI-Course",
   "language": "python",
   "name": "python3"
  },
  "language_info": {
   "codemirror_mode": {
    "name": "ipython",
    "version": 3
   },
   "file_extension": ".py",
   "mimetype": "text/x-python",
   "name": "python",
   "nbconvert_exporter": "python",
   "pygments_lexer": "ipython3",
   "version": "3.10.12"
  }
 },
 "nbformat": 4,
 "nbformat_minor": 5
}
